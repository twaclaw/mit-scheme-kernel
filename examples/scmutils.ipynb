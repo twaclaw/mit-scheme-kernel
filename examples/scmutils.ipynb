{
 "cells": [
  {
   "cell_type": "markdown",
   "id": "f9f97289",
   "metadata": {},
   "source": [
    "## Configuration\n",
    "\n",
    "This example requires that the [Scmutils](https://github.com/slavad/scmutils) are installed ([installation instructions](https://groups.csail.mit.edu/mac/users/gjs/6946/installation.html)), and that the `mechanics` executable to  be in your path.\n",
    "\n",
    "Additionally, the `mit-scheme-kernel` needs to be configured to use the `mechanics` executable:\n",
    "\n",
    "\n",
    "\n",
    "```yaml\n",
    "# mechanics_config.yaml\n",
    "executable: mechanics\n",
    "filter_output: true\n",
    "output_value_regex: ^\\#\\|\\s*([^\\s]+)\\s*\\|\\#$\n",
    "```\n",
    "\n",
    "---\n",
    "\n",
    "```bash\n",
    "export MIT_SCHEME_KERNEL_CONFIG=<ABSOLUTE_PATH>/mechanics_config.yaml\n",
    "```\n"
   ]
  },
  {
   "cell_type": "code",
   "execution_count": 1,
   "id": "482154a8",
   "metadata": {},
   "outputs": [
    {
     "data": {
      "text/plain": [
       "h \n",
       "-15.039830887192451 \n",
       "-15.039830887192451 "
      ]
     },
     "execution_count": 1,
     "metadata": {},
     "output_type": "execute_result"
    }
   ],
   "source": [
    "(define h (* cube sin))\n",
    "(h 3.5)\n",
    "(* (cube 3.5) (sin 3.5))\n"
   ]
  },
  {
   "cell_type": "code",
   "execution_count": 2,
   "id": "791c0c4d",
   "metadata": {},
   "outputs": [
    {
     "data": {
      "text/plain": [
       "(expt (sin a) 3)\r"
      ]
     },
     "execution_count": 2,
     "metadata": {},
     "output_type": "execute_result"
    }
   ],
   "source": [
    "((compose cube sin) 'a)"
   ]
  },
  {
   "cell_type": "code",
   "execution_count": 3,
   "id": "440eaa3d",
   "metadata": {},
   "outputs": [
    {
     "data": {
      "text/plain": [
       "1 "
      ]
     },
     "execution_count": 3,
     "metadata": {},
     "output_type": "execute_result"
    }
   ],
   "source": [
    "((+ (square sin) (square cos)) 'a)"
   ]
  },
  {
   "cell_type": "markdown",
   "id": "fd442948",
   "metadata": {},
   "source": [
    "## Derivatives "
   ]
  },
  {
   "cell_type": "code",
   "execution_count": 4,
   "id": "90b3153b",
   "metadata": {},
   "outputs": [
    {
     "data": {
      "text/plain": [
       "g "
      ]
     },
     "execution_count": 4,
     "metadata": {},
     "output_type": "execute_result"
    }
   ],
   "source": [
    "(define g (literal-function 'g (-> (X Real Real) Real)))"
   ]
  },
  {
   "cell_type": "code",
   "execution_count": 5,
   "id": "8c69cfbb",
   "metadata": {},
   "outputs": [
    {
     "name": "stdout",
     "output_type": "stream",
     "text": [
      "Found boxit pattern in line: \\boxit{ $$\\left[ \\matrix{ \\displaystyle{ {\\partial}_{0}g\\left( x, y \\right)} \\cr \\cr \\displaystyle{ {\\partial}_{1}g\\left( x, y \\right)}} \\right]$$}\n"
     ]
    },
    {
     "data": {
      "text/latex": [
       "$$\\left[ \\begin{matrix}\n",
       "\\displaystyle{ {\\partial}_{0}g\\left( x, y \\right)} \\\\\n",
       "\\displaystyle{ {\\partial}_{1}g\\left( x, y \\right)}\n",
       "\\end{matrix} \\right]$$"
      ],
      "text/plain": [
       "<IPython.core.display.Latex object>"
      ]
     },
     "metadata": {},
     "output_type": "display_data"
    }
   ],
   "source": [
    "%%show_expression\n",
    "(show-expression ((D g) 'x 'y))"
   ]
  },
  {
   "cell_type": "markdown",
   "id": "ddba9041",
   "metadata": {},
   "source": [
    "### Multiple arguments"
   ]
  },
  {
   "cell_type": "code",
   "execution_count": 6,
   "id": "3176ba76",
   "metadata": {},
   "outputs": [
    {
     "data": {
      "text/plain": [
       "g "
      ]
     },
     "execution_count": 6,
     "metadata": {},
     "output_type": "execute_result"
    }
   ],
   "source": [
    "(define (g x y)\n",
    "(up (square (+ x y)) (cube (- y x)) (exp (+ x y))))\n"
   ]
  },
  {
   "cell_type": "code",
   "execution_count": 7,
   "id": "94d47c38",
   "metadata": {},
   "outputs": [
    {
     "name": "stdout",
     "output_type": "stream",
     "text": [
      "Found boxit pattern in line: \\boxit{ $$\\left[ \\matrix{ \\displaystyle{ \\left( \\matrix{ \\displaystyle{ 2 x + 2 y} \\cr \\cr \\displaystyle{  - 3 {x}^{2} + 6 x y - 3 {y}^{2}} \\cr \\cr \\displaystyle{ \\exp\\left( y \\right) \\exp\\left( x \\right)}} \\right)} \\cr \\cr \\displaystyle{ \\left( \\matrix{ \\displaystyle{ 2 x + 2 y} \\cr \\cr \\displaystyle{ 3 {x}^{2} - 6 x y + 3 {y}^{2}} \\cr \\cr \\displaystyle{ \\exp\\left( y \\right) \\exp\\left( x \\right)}} \\right)}} \\right]$$}\n"
     ]
    },
    {
     "data": {
      "text/latex": [
       "$$\\left[ \\begin{matrix}\n",
       "\\displaystyle{ \\left( \\begin{matrix}\n",
       "\\displaystyle{ 2 x + 2 y} \\\\\n",
       "\\displaystyle{  - 3 {x}^{2} + 6 x y - 3 {y}^{2}} \\\\\n",
       "\\displaystyle{ \\exp\\left( y \\right) \\exp\\left( x \\right)}\n",
       "\\end{matrix} \\right)} \\\\\n",
       "\\displaystyle{ \\left( \\begin{matrix}\n",
       "\\displaystyle{ 2 x + 2 y} \\\\\n",
       "\\displaystyle{ 3 {x}^{2} - 6 x y + 3 {y}^{2}} \\\\\n",
       "\\displaystyle{ \\exp\\left( y \\right) \\exp\\left( x \\right)}\n",
       "\\end{matrix} \\right)}\n",
       "\\end{matrix} \\right]$$"
      ],
      "text/plain": [
       "<IPython.core.display.Latex object>"
      ]
     },
     "metadata": {},
     "output_type": "display_data"
    }
   ],
   "source": [
    "%%show_expression\n",
    "(show-expression ((D g) 'x 'y))"
   ]
  },
  {
   "cell_type": "code",
   "execution_count": null,
   "id": "ac687376",
   "metadata": {},
   "outputs": [],
   "source": []
  }
 ],
 "metadata": {
  "kernelspec": {
   "display_name": "MIT/GNU Scheme",
   "language": "scheme",
   "name": "mit-scheme-kernel"
  },
  "language_info": {
   "codemirror_mode": {
    "name": "scheme"
   },
   "mimetype": "text/x-scheme",
   "name": "scheme",
   "pygments_lexer": "scheme"
  }
 },
 "nbformat": 4,
 "nbformat_minor": 5
}
