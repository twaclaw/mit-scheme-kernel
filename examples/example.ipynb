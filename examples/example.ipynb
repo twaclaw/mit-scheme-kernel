{
 "cells": [
  {
   "cell_type": "code",
   "execution_count": 1,
   "id": "b906bd26",
   "metadata": {},
   "outputs": [
    {
     "data": {
      "text/plain": [
       "12\n",
       "f\n",
       "1/3"
      ]
     },
     "execution_count": 1,
     "metadata": {},
     "output_type": "execute_result"
    }
   ],
   "source": [
    "(* 3 4)\n",
    "(define (f x)\n",
    "  (+ x 1))\n",
    "(/ 1 3)"
   ]
  },
  {
   "cell_type": "markdown",
   "id": "fbe0e92e",
   "metadata": {},
   "source": [
    "In the above example, the results of all expressions are printed in the output cell. The kernel can be configured to print only the last expression (1/3 in this case) by passing the `return_only_last_output: true` in the configuration file."
   ]
  },
  {
   "cell_type": "code",
   "execution_count": 2,
   "id": "22331db1",
   "metadata": {},
   "outputs": [
    {
     "data": {
      "text/plain": [
       "factorial"
      ]
     },
     "execution_count": 2,
     "metadata": {},
     "output_type": "execute_result"
    }
   ],
   "source": [
    "( define factorial\n",
    "  (lambda (n)\n",
    "    (if (= n 0)\n",
    "        1\n",
    "        (* n (factorial (- n 1))))))"
   ]
  },
  {
   "cell_type": "code",
   "execution_count": 3,
   "id": "9925f4cb",
   "metadata": {},
   "outputs": [
    {
     "name": "stdout",
     "output_type": "stream",
     "text": [
      "Time: 0.0016140937805175781 seconds.\n",
      "\n"
     ]
    },
    {
     "data": {
      "text/plain": [
       "24"
      ]
     },
     "execution_count": 3,
     "metadata": {},
     "output_type": "execute_result"
    }
   ],
   "source": [
    "%%time\n",
    "(factorial 4)"
   ]
  },
  {
   "cell_type": "markdown",
   "id": "24f01540",
   "metadata": {},
   "source": [
    "And some error messages"
   ]
  },
  {
   "cell_type": "code",
   "execution_count": 4,
   "id": "dd6aabef",
   "metadata": {},
   "outputs": [
    {
     "data": {
      "text/plain": [
       ";Unbound variable: adfdafdf\r\n",
       ";To continue, call RESTART with an option number:\r\n",
       "; (RESTART 3) => Specify a value to use instead of adfdafdf.\r\n",
       "; (RESTART 2) => Define adfdafdf to a given value.\r\n",
       "; (RESTART 1) => Return to read-eval-print level 1."
      ]
     },
     "execution_count": 4,
     "metadata": {},
     "output_type": "execute_result"
    }
   ],
   "source": [
    "adfdafdf"
   ]
  },
  {
   "cell_type": "code",
   "execution_count": 5,
   "id": "e79708c2",
   "metadata": {},
   "outputs": [
    {
     "data": {
      "text/plain": [
       ";Abort!"
      ]
     },
     "execution_count": 5,
     "metadata": {},
     "output_type": "execute_result"
    }
   ],
   "source": [
    "(RESTART 1)"
   ]
  },
  {
   "cell_type": "code",
   "execution_count": 6,
   "id": "19a880c5",
   "metadata": {},
   "outputs": [
    {
     "data": {
      "text/plain": [
       "a-list"
      ]
     },
     "execution_count": 6,
     "metadata": {},
     "output_type": "execute_result"
    }
   ],
   "source": [
    "(define a-list (list 6 946 8 356 12 620))\n"
   ]
  },
  {
   "cell_type": "code",
   "execution_count": 7,
   "id": "04dd615c",
   "metadata": {},
   "outputs": [
    {
     "data": {
      "text/plain": [
       "356"
      ]
     },
     "execution_count": 7,
     "metadata": {},
     "output_type": "execute_result"
    }
   ],
   "source": [
    "(list-ref a-list 3)"
   ]
  }
 ],
 "metadata": {
  "kernelspec": {
   "display_name": "MIT/GNU Scheme",
   "language": "scheme",
   "name": "mit-scheme-kernel"
  },
  "language_info": {
   "codemirror_mode": {
    "name": "scheme"
   },
   "mimetype": "text/x-scheme",
   "name": "scheme",
   "pygments_lexer": "scheme"
  }
 },
 "nbformat": 4,
 "nbformat_minor": 5
}
