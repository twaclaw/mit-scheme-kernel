{
 "cells": [
  {
   "cell_type": "markdown",
   "id": "a7cd6a39",
   "metadata": {},
   "source": [
    "# Mechanics\n",
    "\n",
    "These examples are taken from [The Structure and Interpretation of Classical Mechanics](https://mitpress.mit.edu/9780262028967/structure-and-interpretation-of-classical-mechanics/), the excellent book  by Gerald Jay Sussman and Jack Wisdom.\n",
    "\n",
    "Unofficial HTML version available [here](https://tgvaughan.github.io/sicm/chapter001.html)\n",
    "\n",
    "![](https://mit-press-new-us.imgix.net/covers/9780262028967.jpg?auto=format&w=298&dpr=2&q=80)\n"
   ]
  },
  {
   "cell_type": "markdown",
   "id": "ec01bc59",
   "metadata": {},
   "source": [
    "## Configuration\n",
    "\n",
    "This example requires that the [Scmutils](https://github.com/slavad/scmutils) are installed ([installation instructions](https://groups.csail.mit.edu/mac/users/gjs/6946/installation.html)), and that the `mechanics` executable to  be in your path.\n",
    "\n",
    "Additional, the `mit-scheme-kernel` needs to be configured to use the `mechanics` executable.\n",
    "\n",
    "```yaml\n",
    "# myconfig.yaml\n",
    "executable: mechanics\n",
    "filter_output: true\n",
    "output_value_regex: ^\\#\\|\\s*([^\\s]+)\\s*\\|\\#$\n",
    "```\n",
    "\n",
    "And point the environment variable `MIT_SCHEME_KERNEL_CONFIG` to this file.\n",
    "\n",
    "```bash\n",
    "export MIT_SCHEME_KERNEL_CONFIG=<ABSOLUTE_PATH>/myconfig.yaml\n",
    "```"
   ]
  },
  {
   "cell_type": "markdown",
   "id": "d6a79d08",
   "metadata": {},
   "source": [
    "## Example 1: Euler-Lagrange Equations\n"
   ]
  },
  {
   "cell_type": "code",
   "execution_count": 1,
   "id": "46b2f6cc",
   "metadata": {},
   "outputs": [
    {
     "data": {
      "text/plain": [
       "L-free-particle \n",
       "Lagrange-equations "
      ]
     },
     "execution_count": 1,
     "metadata": {},
     "output_type": "execute_result"
    }
   ],
   "source": [
    "(define ((L-free-particle mass) local)\n",
    "  (let ((v (velocity local)))\n",
    "    (* 1/2 mass (dot-product v v))))\n",
    "\n",
    "\n",
    "(define ((Lagrange-equations Lagrangian) q)\n",
    "  (- (D (compose ((partial 2) Lagrangian) (Gamma q)))\n",
    "     (compose ((partial 1) Lagrangian) (Gamma q))))"
   ]
  },
  {
   "cell_type": "markdown",
   "id": "34530c8f",
   "metadata": {},
   "source": [
    "### The free particle"
   ]
  },
  {
   "cell_type": "code",
   "execution_count": 2,
   "id": "96f9fab1",
   "metadata": {},
   "outputs": [
    {
     "data": {
      "text/plain": [
       "test-path \n",
       "(down 0 0 0)\r"
      ]
     },
     "execution_count": 2,
     "metadata": {},
     "output_type": "execute_result"
    }
   ],
   "source": [
    "(define (test-path t)\n",
    "  (up (+ (* 'a t) 'a0)\n",
    "      (+ (* 'b t) 'b0)\n",
    "      (+ (* 'c t) 'c0)))\n",
    "\n",
    "(((Lagrange-equations (L-free-particle 'm))\n",
    "  test-path)\n",
    " 't)"
   ]
  },
  {
   "cell_type": "code",
   "execution_count": 3,
   "id": "bddfea47",
   "metadata": {},
   "outputs": [
    {
     "data": {
      "text/latex": [
       "$$m {D}^{2}x\\left( t \\right)$$"
      ],
      "text/plain": [
       "<IPython.core.display.Latex object>"
      ]
     },
     "metadata": {},
     "output_type": "display_data"
    }
   ],
   "source": [
    "%%show_expression\n",
    "(show-expression\n",
    "  (((Lagrange-equations (L-free-particle 'm))\n",
    "    (literal-function 'x))\n",
    "   't))\n",
    "(*(((expt D 2) x) t) m)"
   ]
  },
  {
   "cell_type": "markdown",
   "id": "4a85748e",
   "metadata": {},
   "source": [
    "### The harmonic oscillator\n"
   ]
  },
  {
   "cell_type": "code",
   "execution_count": 4,
   "id": "0b988a8d",
   "metadata": {},
   "outputs": [
    {
     "data": {
      "text/plain": [
       "L-harmonic \n",
       "proposed-solution "
      ]
     },
     "execution_count": 4,
     "metadata": {},
     "output_type": "execute_result"
    }
   ],
   "source": [
    "(define ((L-harmonic m k) local)\n",
    "  (let ((q (coordinate local))\n",
    "        (v (velocity local)))\n",
    "    (- (* 1/2 m (square v)) (* 1/2 k (square q)))))\n",
    "\n",
    "(define (proposed-solution t)\n",
    "  (* 'A (cos (+ (* 'omega t) 'phi))))\n"
   ]
  },
  {
   "cell_type": "code",
   "execution_count": 5,
   "id": "a22232a8",
   "metadata": {},
   "outputs": [
    {
     "data": {
      "text/latex": [
       "$$ - A m {\\omega}^{2} \\cos\\left( \\omega t + \\phi \\right) + A k \\cos\\left( \\omega t + \\phi \\right)$$"
      ],
      "text/plain": [
       "<IPython.core.display.Latex object>"
      ]
     },
     "metadata": {},
     "output_type": "display_data"
    }
   ],
   "source": [
    "%%show_expression\n",
    "(show-expression\n",
    "  (((Lagrange-equations (L-harmonic 'm 'k))\n",
    "    proposed-solution)\n",
    "   't))"
   ]
  },
  {
   "cell_type": "markdown",
   "id": "b00a75cb",
   "metadata": {},
   "source": [
    "## Example 2: Hamilton's principle\n",
    "\n",
    "### Constant acceleration"
   ]
  },
  {
   "cell_type": "code",
   "execution_count": 6,
   "id": "de168c77",
   "metadata": {},
   "outputs": [
    {
     "data": {
      "text/plain": [
       "L-uniform-acceleration "
      ]
     },
     "execution_count": 6,
     "metadata": {},
     "output_type": "execute_result"
    }
   ],
   "source": [
    "(define ((L-uniform-acceleration m g) local)\n",
    "  (let ((q (coordinate local))\n",
    "        (v (velocity local)))\n",
    "    (let ((y (ref q 1)))\n",
    "      (- (* 1/2 m (square v)) (* m g y)))))\n"
   ]
  },
  {
   "cell_type": "code",
   "execution_count": 7,
   "id": "4b7bf669",
   "metadata": {},
   "outputs": [
    {
     "data": {
      "text/latex": [
       "$$\\left[ \\begin{matrix}\n",
       " \\displaystyle{ m {D}^{2}x\\left( t \\right)}  \\\\\n",
       " \\displaystyle{ g m + m {D}^{2}y\\left( t \\right)}\n",
       "\\end{matrix} \\right]$$"
      ],
      "text/plain": [
       "<IPython.core.display.Latex object>"
      ]
     },
     "metadata": {},
     "output_type": "display_data"
    }
   ],
   "source": [
    "%%show_expression\n",
    "(show-expression\n",
    "  (((Lagrange-equations\n",
    "      (L-uniform-acceleration 'm 'g))\n",
    "    (up (literal-function 'x)\n",
    "        (literal-function 'y)))\n",
    "   't))"
   ]
  },
  {
   "cell_type": "markdown",
   "id": "0ccc3d37",
   "metadata": {},
   "source": [
    "For reference, here is the output of the cell above without the magic command:"
   ]
  },
  {
   "cell_type": "code",
   "execution_count": 8,
   "id": "ef6a384b",
   "metadata": {},
   "outputs": [
    {
     "data": {
      "text/plain": [
       "(down (* m (((expt D 2) x) t)) (+ (* g m) (* m (((expt D 2) y) t))))\r\n",
       "\r\n",
       "\r\n",
       "\r\n",
       ";No return value."
      ]
     },
     "execution_count": 8,
     "metadata": {},
     "output_type": "execute_result"
    }
   ],
   "source": [
    "(show-expression\n",
    "  (((Lagrange-equations\n",
    "      (L-uniform-acceleration 'm 'g))\n",
    "    (up (literal-function 'x)\n",
    "        (literal-function 'y)))\n",
    "   't))"
   ]
  },
  {
   "cell_type": "markdown",
   "id": "62cffac9",
   "metadata": {},
   "source": [
    "### Central force field"
   ]
  },
  {
   "cell_type": "code",
   "execution_count": 9,
   "id": "9051b19c",
   "metadata": {},
   "outputs": [
    {
     "data": {
      "text/plain": [
       "L-central-rectangular "
      ]
     },
     "execution_count": 9,
     "metadata": {},
     "output_type": "execute_result"
    }
   ],
   "source": [
    "(define ((L-central-rectangular m U) local)\n",
    "  (let ((q (coordinate local))\n",
    "        (v (velocity local)))\n",
    "    (- (* 1/2 m (square v))\n",
    "       (U (sqrt (square q))))))"
   ]
  },
  {
   "cell_type": "code",
   "execution_count": 10,
   "id": "c63e80d5",
   "metadata": {},
   "outputs": [
    {
     "data": {
      "text/latex": [
       "$$\\left[ \\begin{matrix}\n",
       " \\displaystyle{ {{m {D}^{2}x\\left( t \\right) \\sqrt{{\\left( x\\left( t \\right) \\right)}^{2} + {\\left( y\\left( t \\right) \\right)}^{2}} + x\\left( t \\right) DU\\left( \\sqrt{{\\left( x\\left( t \\right) \\right)}^{2} + {\\left( y\\left( t \\right) \\right)}^{2}} \\right)}\\over {\\sqrt{{\\left( x\\left( t \\right) \\right)}^{2} + {\\left( y\\left( t \\right) \\right)}^{2}}}}}  \\\\\n",
       " \\displaystyle{ {{m {D}^{2}y\\left( t \\right) \\sqrt{{\\left( x\\left( t \\right) \\right)}^{2} + {\\left( y\\left( t \\right) \\right)}^{2}} + y\\left( t \\right) DU\\left( \\sqrt{{\\left( x\\left( t \\right) \\right)}^{2} + {\\left( y\\left( t \\right) \\right)}^{2}} \\right)}\\over {\\sqrt{{\\left( x\\left( t \\right) \\right)}^{2} + {\\left( y\\left( t \\right) \\right)}^{2}}}}}\n",
       "\\end{matrix} \\right]$$"
      ],
      "text/plain": [
       "<IPython.core.display.Latex object>"
      ]
     },
     "metadata": {},
     "output_type": "display_data"
    }
   ],
   "source": [
    "%%show_expression\n",
    "(show-expression\n",
    "  (((Lagrange-equations\n",
    "      (L-central-rectangular 'm (literal-function 'U)))\n",
    "    (up (literal-function 'x)\n",
    "        (literal-function 'y)))\n",
    "   't))"
   ]
  },
  {
   "cell_type": "code",
   "execution_count": 11,
   "id": "45379893",
   "metadata": {},
   "outputs": [
    {
     "data": {
      "text/plain": [
       "L-central-polar "
      ]
     },
     "execution_count": 11,
     "metadata": {},
     "output_type": "execute_result"
    }
   ],
   "source": [
    "(define ((L-central-polar m U) local)\n",
    "  (let ((q (coordinate local))\n",
    "        (qdot (velocity local)))\n",
    "    (let ((r (ref q 0)) (phi (ref q 1))\n",
    "                        (rdot (ref qdot 0)) (phidot (ref qdot 1)))\n",
    "      (- (* 1/2 m\n",
    "            (+ (square rdot)\n",
    "               (square (* r phidot))) )\n",
    "         (U r)))))"
   ]
  },
  {
   "cell_type": "code",
   "execution_count": 12,
   "id": "1f2e07db",
   "metadata": {},
   "outputs": [
    {
     "data": {
      "text/latex": [
       "$$\\left[ \\begin{matrix}\n",
       " \\displaystyle{  - m {\\left( D\\phi\\left( t \\right) \\right)}^{2} r\\left( t \\right) + m {D}^{2}r\\left( t \\right) + DU\\left( r\\left( t \\right) \\right)}  \\\\\n",
       " \\displaystyle{ 2 m D\\phi\\left( t \\right) r\\left( t \\right) Dr\\left( t \\right) + m {\\left( r\\left( t \\right) \\right)}^{2} {D}^{2}\\phi\\left( t \\right)}\n",
       "\\end{matrix} \\right]$$"
      ],
      "text/plain": [
       "<IPython.core.display.Latex object>"
      ]
     },
     "metadata": {},
     "output_type": "display_data"
    }
   ],
   "source": [
    "%%show_expression\n",
    "(show-expression\n",
    "  (((Lagrange-equations\n",
    "      (L-central-polar 'm (literal-function 'U)))\n",
    "    (up (literal-function 'r)\n",
    "        (literal-function 'phi)))\n",
    "   't))"
   ]
  }
 ],
 "metadata": {
  "kernelspec": {
   "display_name": "MIT/GNU Scheme",
   "language": "scheme",
   "name": "mit-scheme-kernel"
  },
  "language_info": {
   "codemirror_mode": {
    "name": "scheme"
   },
   "mimetype": "text/x-scheme",
   "name": "scheme",
   "pygments_lexer": "scheme"
  }
 },
 "nbformat": 4,
 "nbformat_minor": 5
}
